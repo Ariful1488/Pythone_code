{
 "cells": [
  {
   "cell_type": "code",
   "execution_count": 1,
   "id": "5c2ac8aa-4f03-43f3-8d8d-6ea2581831df",
   "metadata": {},
   "outputs": [
    {
     "data": {
      "text/plain": [
       "{1: 1, 2: 4, 3: 9, 4: 16, 5: 25}"
      ]
     },
     "execution_count": 1,
     "metadata": {},
     "output_type": "execute_result"
    }
   ],
   "source": [
    "# {key_expr: value_expr for item in iterable}\n",
    "nums = [1,2,3,4,5]\n",
    "sqr_dictionary = { x: x**2 for x in nums}\n",
    "sqr_dictionary"
   ]
  },
  {
   "cell_type": "code",
   "execution_count": null,
   "id": "eca4de71-9243-41c1-84c6-099f240502cf",
   "metadata": {},
   "outputs": [],
   "source": []
  }
 ],
 "metadata": {
  "kernelspec": {
   "display_name": "Python 3 (ipykernel)",
   "language": "python",
   "name": "python3"
  },
  "language_info": {
   "codemirror_mode": {
    "name": "ipython",
    "version": 3
   },
   "file_extension": ".py",
   "mimetype": "text/x-python",
   "name": "python",
   "nbconvert_exporter": "python",
   "pygments_lexer": "ipython3",
   "version": "3.11.5"
  }
 },
 "nbformat": 4,
 "nbformat_minor": 5
}
