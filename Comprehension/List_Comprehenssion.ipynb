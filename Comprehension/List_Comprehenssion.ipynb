{
 "cells": [
  {
   "cell_type": "code",
   "execution_count": null,
   "id": "dbfc7e77-1200-4125-b4f1-9e45ebc99528",
   "metadata": {},
   "outputs": [],
   "source": [
    "# List comprehension= A concise way to create a list in python\n",
    "#Compact and easier to read than conditional loops\n",
    "#[expression for value in iterable if condition]"
   ]
  },
  {
   "cell_type": "code",
   "execution_count": 1,
   "id": "cf38c439-2540-47b9-bde1-d86c73cf23c3",
   "metadata": {},
   "outputs": [
    {
     "name": "stdout",
     "output_type": "stream",
     "text": [
      "[2, 4, 6, 8, 10, 12, 14, 16, 18, 20]\n"
     ]
    }
   ],
   "source": [
    "doubles = []\n",
    "for i in range(1,11):\n",
    "    doubles.append(i * 2)\n",
    "print(doubles)\n",
    "    "
   ]
  },
  {
   "cell_type": "code",
   "execution_count": 3,
   "id": "a3c4ee9f-b23c-4fb1-8ca5-c34da4133065",
   "metadata": {},
   "outputs": [
    {
     "data": {
      "text/plain": [
       "[2, 4, 6, 8, 10, 12, 14, 16, 18, 20]"
      ]
     },
     "execution_count": 3,
     "metadata": {},
     "output_type": "execute_result"
    }
   ],
   "source": [
    "doubles = [x*2 for x in range(1,11) ]\n",
    "doubles"
   ]
  },
  {
   "cell_type": "code",
   "execution_count": 4,
   "id": "db8055a3-9a8f-4d41-81c3-6f6a8332fb64",
   "metadata": {},
   "outputs": [
    {
     "data": {
      "text/plain": [
       "[2, 4, 6, 8, 10]"
      ]
     },
     "execution_count": 4,
     "metadata": {},
     "output_type": "execute_result"
    }
   ],
   "source": [
    "# With condition\n",
    "# [expression for value in iterable if condition]\n",
    "# making list of even number\n",
    "nums = [1,2,3,4,5,6,7,8,9,10]\n",
    "even = [x for x in nums if x % 2 == 0 ]\n",
    "even"
   ]
  },
  {
   "cell_type": "code",
   "execution_count": 5,
   "id": "c85b2713-0c51-4737-9869-0ca05f615e6c",
   "metadata": {},
   "outputs": [
    {
     "data": {
      "text/plain": [
       "[-10, -9, -8, -7, -6, -5, -4, -3, -2, -1, 0]"
      ]
     },
     "execution_count": 5,
     "metadata": {},
     "output_type": "execute_result"
    }
   ],
   "source": [
    "# more example of if condition\n",
    "nums = [-10,-9,-8,-7,-6,-5,-4,-3,-2,-1,0,1,2,3,4,5,6,7,8,9,10]\n",
    "value_less_than_zero = [x for x in nums if x<=0]\n",
    "value_less_than_zero"
   ]
  },
  {
   "cell_type": "code",
   "execution_count": 6,
   "id": "277ab5a1-d974-49de-a574-a972c7fc7519",
   "metadata": {},
   "outputs": [
    {
     "data": {
      "text/plain": [
       "[0, 1, 2, 3, 4, 5, 6, 7, 8, 9, 10]"
      ]
     },
     "execution_count": 6,
     "metadata": {},
     "output_type": "execute_result"
    }
   ],
   "source": [
    "greater_than_zero = [x for x in [-10,-9,-8,-7,-6,-5,-4,-3,-2,-1,0,1,2,3,4,5,6,7,8,9,10] if x >= 0]\n",
    "greater_than_zero"
   ]
  },
  {
   "cell_type": "markdown",
   "id": "ccb38aaf-9f6b-473d-8693-1d989208a5db",
   "metadata": {},
   "source": [
    "With If-Else(Inline condition)"
   ]
  },
  {
   "cell_type": "code",
   "execution_count": 13,
   "id": "89f9127b-2c55-4772-918e-2d9a79eea637",
   "metadata": {},
   "outputs": [
    {
     "data": {
      "text/plain": [
       "['even',\n",
       " 'even',\n",
       " 'even',\n",
       " 'even',\n",
       " 'even',\n",
       " 'even',\n",
       " 'even',\n",
       " 'even',\n",
       " 'even',\n",
       " 'even',\n",
       " 'odd']"
      ]
     },
     "execution_count": 13,
     "metadata": {},
     "output_type": "execute_result"
    }
   ],
   "source": [
    "# [expression_if_true if condition else expression_if_false for item in iterable]\n",
    "\n",
    "nums = [2, 4, 6, 8, 10, 12, 14, 16, 18, 20,21]\n",
    "\n",
    "labels= ['even' if x % 2 == 0 else 'odd' for x in nums]\n",
    "labels"
   ]
  },
  {
   "cell_type": "code",
   "execution_count": 15,
   "id": "72cdd56d-40a1-4414-8fd8-ab65285c1dc6",
   "metadata": {},
   "outputs": [
    {
     "data": {
      "text/plain": [
       "[(1, 'a'), (1, 'b'), (2, 'a'), (2, 'b'), (3, 'a'), (3, 'b')]"
      ]
     },
     "execution_count": 15,
     "metadata": {},
     "output_type": "execute_result"
    }
   ],
   "source": [
    "#Nested loop in comprehension\n",
    "#[expression for item in iterable1 for item2 in iterable2]\n",
    "\n",
    "pairs = [(x,y) for x in [1,2,3] for y in ['a','b']]\n",
    "pairs"
   ]
  },
  {
   "cell_type": "code",
   "execution_count": 17,
   "id": "e0319c99-3693-4186-8056-3ed654593490",
   "metadata": {},
   "outputs": [
    {
     "data": {
      "text/plain": [
       "[(1, 'a'), (1, 'b'), (2, 'a'), (2, 'b'), (3, 'a'), (3, 'b')]"
      ]
     },
     "execution_count": 17,
     "metadata": {},
     "output_type": "execute_result"
    }
   ],
   "source": [
    "# general way\n",
    "nums = [1,2,3]\n",
    "lat = ['a','b']\n",
    "res = []\n",
    "for x in nums:\n",
    "    for y in lat:\n",
    "        res.append((x,y))\n",
    "res"
   ]
  },
  {
   "cell_type": "code",
   "execution_count": null,
   "id": "b23a8fc9-7a06-4c73-8e94-f27d9b473b4d",
   "metadata": {},
   "outputs": [],
   "source": []
  }
 ],
 "metadata": {
  "kernelspec": {
   "display_name": "Python 3 (ipykernel)",
   "language": "python",
   "name": "python3"
  },
  "language_info": {
   "codemirror_mode": {
    "name": "ipython",
    "version": 3
   },
   "file_extension": ".py",
   "mimetype": "text/x-python",
   "name": "python",
   "nbconvert_exporter": "python",
   "pygments_lexer": "ipython3",
   "version": "3.11.5"
  }
 },
 "nbformat": 4,
 "nbformat_minor": 5
}
